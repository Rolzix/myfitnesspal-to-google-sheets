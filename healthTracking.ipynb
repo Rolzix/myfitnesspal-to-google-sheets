{
 "cells": [
  {
   "cell_type": "code",
   "execution_count": 4,
   "metadata": {},
   "outputs": [
    {
     "name": "stdout",
     "output_type": "stream",
     "text": [
      "[<Worksheet 'Sheet1' id:0>]\n"
     ]
    },
    {
     "ename": "KeyError",
     "evalue": "'calories'",
     "output_type": "error",
     "traceback": [
      "\u001b[1;31m---------------------------------------------------------------------------\u001b[0m",
      "\u001b[1;31mKeyError\u001b[0m                                  Traceback (most recent call last)",
      "Cell \u001b[1;32mIn[4], line 24\u001b[0m\n\u001b[0;32m     22\u001b[0m worksheet \u001b[39m=\u001b[39m sh\u001b[39m.\u001b[39mworksheet(\u001b[39m\"\u001b[39m\u001b[39mSheet1\u001b[39m\u001b[39m\"\u001b[39m)  \u001b[39m# Replace \"Sheet1\" with the name of your worksheet\u001b[39;00m\n\u001b[0;32m     23\u001b[0m worksheet\u001b[39m.\u001b[39mupdate_cell((date \u001b[39m-\u001b[39m start_date)\u001b[39m.\u001b[39mdays \u001b[39m+\u001b[39m \u001b[39m1\u001b[39m, \u001b[39m1\u001b[39m, date\u001b[39m.\u001b[39mstrftime(\u001b[39m'\u001b[39m\u001b[39m%\u001b[39m\u001b[39mY-\u001b[39m\u001b[39m%\u001b[39m\u001b[39mm-\u001b[39m\u001b[39m%d\u001b[39;00m\u001b[39m'\u001b[39m))  \u001b[39m# Update the first cell with the date\u001b[39;00m\n\u001b[1;32m---> 24\u001b[0m worksheet\u001b[39m.\u001b[39mupdate_cell((date \u001b[39m-\u001b[39m start_date)\u001b[39m.\u001b[39mdays \u001b[39m+\u001b[39m \u001b[39m1\u001b[39m, \u001b[39m2\u001b[39m, day\u001b[39m.\u001b[39;49mtotals[\u001b[39m'\u001b[39;49m\u001b[39mcalories\u001b[39;49m\u001b[39m'\u001b[39;49m])  \u001b[39m# Update the second cell with the total calories\u001b[39;00m\n",
      "\u001b[1;31mKeyError\u001b[0m: 'calories'"
     ]
    }
   ],
   "source": [
    "import datetime\n",
    "import myfitnesspal\n",
    "import gspread \n",
    "\n",
    "\n",
    "start_date = datetime.date(datetime.date.today().year, 1, 1)  # Get the first day of the current year\n",
    "end_date = datetime.date.today()  # Get today's date\n",
    "mfp = myfitnesspal.Client()\n",
    "sheets = gspread.service_account('./service_account.json')\n",
    "sh = sheets.open('HealthTracking')\n",
    "# lastUpdated = -1\n",
    "print(sh.worksheets())\n",
    "\n",
    "# export daily calories to google sheets\n",
    "\n",
    "\n",
    "# day = mfp.get_date(2023, 4, 10)\n",
    "\n",
    "\n",
    "for date in (start_date + datetime.timedelta(n) for n in range((end_date - start_date).days + 1)):\n",
    "    try:\n",
    "        day = mfp.get_date(date.year, date.month, date.day)\n",
    "        worksheet = sh.worksheet(\"Sheet1\")  # Replace \"Sheet1\" with the name of your worksheet\n",
    "        worksheet.update_cell((date - start_date).days + 1, 1, date.strftime('%Y-%m-%d'))  # Update the first cell with the date\n",
    "        worksheet.update_cell((date - start_date).days + 1, 2, day.totals['calories'])  # Update the second cell with the total calories\n",
    "        worksheet.update_cell((date - start_date).days + 1, 3, day.totals['carbohydrates'])  # Update the second cell with the total calories\n",
    "        worksheet.update_cell((date - start_date).days + 1, 4, day.totals['fat'])  # Update the second cell with the total calories\n",
    "        worksheet.update_cell((date - start_date).days + 1, 5, day.totals['protein'])  # Update the second cell with the total calories\n",
    "        print(f\"Successfully updated worksheet for {date.strftime('%Y-%m-%d')}\")\n",
    "    except myfitnesspal.exceptions.MyfitnesspalAuthenticationError:\n",
    "        print(f\"No data found for {date.strftime('%Y-%m-%d')}\")  # Update the second cell with the total calories"
   ]
  }
 ],
 "metadata": {
  "kernelspec": {
   "display_name": "Python 3",
   "language": "python",
   "name": "python3"
  },
  "language_info": {
   "codemirror_mode": {
    "name": "ipython",
    "version": 3
   },
   "file_extension": ".py",
   "mimetype": "text/x-python",
   "name": "python",
   "nbconvert_exporter": "python",
   "pygments_lexer": "ipython3",
   "version": "3.10.4"
  },
  "orig_nbformat": 4
 },
 "nbformat": 4,
 "nbformat_minor": 2
}
